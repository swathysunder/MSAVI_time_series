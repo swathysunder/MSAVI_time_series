{
  "nbformat": 4,
  "nbformat_minor": 0,
  "metadata": {
    "colab": {
      "name": "MSAVI Time Series from Landsat 8.ipynb",
      "provenance": [],
      "authorship_tag": "ABX9TyOfAwM3bsbJC8dA1ZIgEGTf",
      "include_colab_link": true
    },
    "kernelspec": {
      "name": "python3",
      "display_name": "Python 3"
    },
    "language_info": {
      "name": "python"
    }
  },
  "cells": [
    {
      "cell_type": "markdown",
      "metadata": {
        "id": "view-in-github",
        "colab_type": "text"
      },
      "source": [
        "<a href=\"https://colab.research.google.com/github/swathysunder/MSAVI_time_series/blob/main/MSAVI_Time_Series_from_Landsat_8.ipynb\" target=\"_parent\"><img src=\"https://colab.research.google.com/assets/colab-badge.svg\" alt=\"Open In Colab\"/></a>"
      ]
    },
    {
      "cell_type": "markdown",
      "metadata": {
        "id": "pSStKRAHTsV0"
      },
      "source": [
        "**The datasets used in this assignment is directly imported from google earth Engine. Hence, you have to give the authorisation through your gmail in order to run the program. **\n"
      ]
    },
    {
      "cell_type": "code",
      "metadata": {
        "colab": {
          "base_uri": "https://localhost:8080/"
        },
        "id": "i71hOHtBxO2X",
        "outputId": "519f7b04-d36c-4710-fbd5-c03a226a9a6e"
      },
      "source": [
        "#importing and authenticaiton of google earth engine\n",
        "\n",
        "import ee\n",
        "\n",
        "# Trigger the authentication flow.\n",
        "ee.Authenticate()\n",
        "\n",
        "# Initialize the library.\n",
        "ee.Initialize()\n"
      ],
      "execution_count": 1,
      "outputs": [
        {
          "output_type": "stream",
          "text": [
            "To authorize access needed by Earth Engine, open the following URL in a web browser and follow the instructions. If the web browser does not start automatically, please manually browse the URL below.\n",
            "\n",
            "    https://accounts.google.com/o/oauth2/auth?client_id=517222506229-vsmmajv00ul0bs7p89v5m89qs8eb9359.apps.googleusercontent.com&scope=https%3A%2F%2Fwww.googleapis.com%2Fauth%2Fearthengine+https%3A%2F%2Fwww.googleapis.com%2Fauth%2Fdevstorage.full_control&redirect_uri=urn%3Aietf%3Awg%3Aoauth%3A2.0%3Aoob&response_type=code&code_challenge=1M3VNkiBkkBAUbDBbGr0FVc_kcyvtyT0Ls3mAoGx4cA&code_challenge_method=S256\n",
            "\n",
            "The authorization workflow will generate a code, which you should paste in the box below. \n",
            "Enter verification code: 4/1AY0e-g79bgILbHWyzvUjb-IPJwpgJPWeNbO2O7nVuUa0m_htHBS71OCXKSU\n",
            "\n",
            "Successfully saved authorization token.\n"
          ],
          "name": "stdout"
        }
      ]
    },
    {
      "cell_type": "markdown",
      "metadata": {
        "id": "LeVlbp3CYeOG"
      },
      "source": [
        "\n",
        "Fetching Landsat 8 Image collection & Extracting Region of Interest(ROI)\n",
        "\n",
        "\n"
      ]
    },
    {
      "cell_type": "code",
      "metadata": {
        "id": "SDgHDQZMxYVz"
      },
      "source": [
        "\n",
        "#import the surface reflectance, 'sr' here\n",
        "sr= ee.ImageCollection(\"LANDSAT/LC08/C01/T1_SR\")\n",
        "\n"
      ],
      "execution_count": 148,
      "outputs": []
    },
    {
      "cell_type": "code",
      "metadata": {
        "id": "qnTWaeP8xqi-"
      },
      "source": [
        "# Initial date of interest (inclusive).\n",
        "i_date = '2020-01-01'\n",
        "\n",
        "# Final date of interest (exclusive).\n",
        "f_date = '2020-06-30'\n",
        "\n",
        "# here we will filter only the bands required for MSAVI 2 calculation\n",
        "\n",
        "sr = sr.select('B4', 'B5','pixel_qa').filterDate(i_date, f_date)\n"
      ],
      "execution_count": 149,
      "outputs": []
    },
    {
      "cell_type": "code",
      "metadata": {
        "id": "TIakGttPxyQt"
      },
      "source": [
        "# Define the region of interests (roi). roi_1,2,3 designates the three different study areas here\n",
        "\n",
        "\n",
        "roi_1 = ee.Geometry.Polygon([[[75.45157492160797,30.634404129904425],\\\n",
        "                            [ 75.4524278640747,30.63372099804389],\\\n",
        "                            [75.45236885547638,30.634399514164798],\\\n",
        "                            [75.45157492160797, 30.634404129904425]\\\n",
        "                            ]])\n",
        "\n",
        "roi_2 = ee.Geometry.Polygon([[[85.85622847080231,26.09425078918021],\\\n",
        "                              [85.85590660572052,26.093581136401006],\\\n",
        "                              [85.85663080215454,26.09337879451938 ],\\\n",
        "                              [85.85686147212981,26.094009907326967],\\\n",
        "                              [85.85622847080231,26.09425078918021]\\\n",
        "                              ]])\n",
        "\n",
        "roi_3 = ee.Geometry.Polygon([[[78.66571158170699,17.66869116558751],\\\n",
        "                              [78.6662346124649,17.6686911655875],\\\n",
        "                              [78.6662346124649,17.66929686130703],\\\n",
        "                              [78.66571158170699,17.66929686130703],\\\n",
        "                              [78.66571158170699,17.66869116558751]\\\n",
        "                              ]])\n"
      ],
      "execution_count": 150,
      "outputs": []
    },
    {
      "cell_type": "code",
      "metadata": {
        "colab": {
          "base_uri": "https://localhost:8080/"
        },
        "id": "F3k3toJxx8P6",
        "outputId": "86f42983-28ef-4ad3-fc97-05665a12c36d"
      },
      "source": [
        "# The buffer zone we consider around each area.\n",
        "buffer = 1  # meters\n",
        "\n",
        "# Get the data for the region 1\n",
        "sr_roi_1 = sr.getRegion(roi_1,buffer).getInfo()\n",
        "# Get the data for the region 2\n",
        "sr_roi_2 = sr.getRegion(roi_2,buffer).getInfo()\n",
        "# Get the data for the region 3\n",
        "sr_roi_3 = sr.getRegion(roi_3,buffer).getInfo()\n",
        "\n",
        "# Preview the result.\n",
        "sr_roi_1[:6]\n"
      ],
      "execution_count": 170,
      "outputs": [
        {
          "output_type": "execute_result",
          "data": {
            "text/plain": [
              "[['id', 'longitude', 'latitude', 'time', 'B4', 'B5', 'pixel_qa'],\n",
              " ['LC08_148039_20200123',\n",
              "  75.45242472944838,\n",
              "  30.633732473074286,\n",
              "  1579757457192,\n",
              "  567,\n",
              "  3314,\n",
              "  322],\n",
              " ['LC08_148039_20200208',\n",
              "  75.45242472944838,\n",
              "  30.633732473074286,\n",
              "  1581139852109,\n",
              "  872,\n",
              "  2660,\n",
              "  322],\n",
              " ['LC08_148039_20200224',\n",
              "  75.45242472944838,\n",
              "  30.633732473074286,\n",
              "  1582522248530,\n",
              "  869,\n",
              "  1877,\n",
              "  322],\n",
              " ['LC08_148039_20200412',\n",
              "  75.45242472944838,\n",
              "  30.633732473074286,\n",
              "  1586669426084,\n",
              "  3323,\n",
              "  3994,\n",
              "  992],\n",
              " ['LC08_148039_20200428',\n",
              "  75.45242472944838,\n",
              "  30.633732473074286,\n",
              "  1588051818437,\n",
              "  2368,\n",
              "  3240,\n",
              "  480]]"
            ]
          },
          "metadata": {
            "tags": []
          },
          "execution_count": 170
        }
      ]
    },
    {
      "cell_type": "markdown",
      "metadata": {
        "id": "VOSXVzJCzy2V"
      },
      "source": [
        "Function Definition for client side ee.Image.getRegion array to pandas dataframe"
      ]
    },
    {
      "cell_type": "code",
      "metadata": {
        "id": "1THsgoDEx9Rl"
      },
      "source": [
        "import pandas as pd\n",
        "\n",
        "def ee_array_to_df(arr, list_of_bands):\n",
        "    \"\"\"Transforms client-side ee.Image.getRegion array to pandas.DataFrame.\"\"\"\n",
        "    df = pd.DataFrame(arr)\n",
        "\n",
        "    # Rearrange the header.\n",
        "    headers = df.iloc[0]\n",
        "    df = pd.DataFrame(df.values[1:], columns=headers)\n",
        "\n",
        "    # Remove rows without data inside.\n",
        "    df = df[['longitude', 'latitude', 'time', *list_of_bands]].dropna()\n",
        "\n",
        "    # Convert the data to numeric values.\n",
        "    for band in list_of_bands:\n",
        "        df[band] = pd.to_numeric(df[band], errors='coerce')\n",
        "\n",
        "    # Convert the time field into a datetime.\n",
        "    df['datetime'] = pd.to_datetime(df['time'], unit='ms')\n",
        "\n",
        "    # Keep the columns of interest.\n",
        "    df = df[['time','datetime',  *list_of_bands]]\n",
        "\n",
        "    return df"
      ],
      "execution_count": 156,
      "outputs": []
    },
    {
      "cell_type": "code",
      "metadata": {
        "colab": {
          "base_uri": "https://localhost:8080/"
        },
        "id": "EPor78KGRSo3",
        "outputId": "f82e79b8-85d0-4706-98c9-d415d067febe"
      },
      "source": [
        "# call the function to convert ee.image.getRegion array to pandas dataframe\n",
        "sr_roi_1 = ee_array_to_df(sr_roi_1,['B4','B5','pixel_qa'])\n",
        "sr_roi_2 = ee_array_to_df(sr_roi_2,['B4','B5','pixel_qa'])\n",
        "sr_roi_3 = ee_array_to_df(sr_roi_3,['B4','B5','pixel_qa'])\n",
        "# print(sr_roi_1)"
      ],
      "execution_count": 171,
      "outputs": [
        {
          "output_type": "stream",
          "text": [
            "0               time                datetime    B4    B5  pixel_qa\n",
            "0      1579757457192 2020-01-23 05:30:57.192   567  3314       322\n",
            "1      1581139852109 2020-02-08 05:30:52.109   872  2660       322\n",
            "2      1582522248530 2020-02-24 05:30:48.530   869  1877       322\n",
            "3      1586669426084 2020-04-12 05:30:26.084  3323  3994       992\n",
            "4      1588051818437 2020-04-28 05:30:18.437  2368  3240       480\n",
            "...              ...                     ...   ...   ...       ...\n",
            "26595  1586669426084 2020-04-12 05:30:26.084  3362  4043       992\n",
            "26596  1588051818437 2020-04-28 05:30:18.437  3299  4152       480\n",
            "26597  1589434213599 2020-05-14 05:30:13.599  1521  1920       480\n",
            "26598  1590816617393 2020-05-30 05:30:17.393  1425  2858       322\n",
            "26599  1592199027594 2020-06-15 05:30:27.594  1501  2885       322\n",
            "\n",
            "[26600 rows x 5 columns]\n"
          ],
          "name": "stdout"
        }
      ]
    },
    {
      "cell_type": "markdown",
      "metadata": {
        "id": "v6aCqryQqahi"
      },
      "source": [
        "Function definition to screen the cloudy pixels. \n",
        "\n",
        "The quality index(pixel_qa) for the cloudy and cloud shadow pixels are given in the landsat land surface reflectance product code-page 11 (https://prd-wret.s3.us-west-2.amazonaws.com/assets/palladium/production/atoms/files/LSDS-1368_L8_C1-LandSurfaceReflectanceCode-LASRC_ProductGuide-v3.pdf). \n",
        "\n",
        "*The pixels whose quality index falls within the cloud/cloud shadow region are eliminated.* \n"
      ]
    },
    {
      "cell_type": "code",
      "metadata": {
        "id": "d9piTELaV9Z1"
      },
      "source": [
        "\n",
        "def del_cloudy_pixels(df):\n",
        "  cloud_pixel_qa=[352, 368, 416, 432, 480, 864, 880, 928, 944, 992]\n",
        "  cloud_shadow_qa=[328, 392, 840, 904, 1350]\n",
        "\n",
        "  rslt_df = df.loc[~df['pixel_qa'].isin(cloud_pixel_qa)&\n",
        "                        ~df['pixel_qa'].isin(cloud_shadow_qa)]\n",
        "  return rslt_df\n"
      ],
      "execution_count": 201,
      "outputs": []
    },
    {
      "cell_type": "code",
      "metadata": {
        "colab": {
          "base_uri": "https://localhost:8080/"
        },
        "id": "JIVs6qIeeNMd",
        "outputId": "08184e26-a009-4cde-9bf7-a2c419e9dfa2"
      },
      "source": [
        "# call the function to eliminate cloudy pixels from dataframe\n",
        "\n",
        "cf_sr_roi_1 = del_cloudy_pixels(sr_roi_1)\n",
        "cf_sr_roi_2 = del_cloudy_pixels(sr_roi_2)\n",
        "cf_sr_roi_3 = del_cloudy_pixels(sr_roi_3)\n",
        "\n",
        "# print(cf_sr_roi_1)"
      ],
      "execution_count": 200,
      "outputs": [
        {
          "output_type": "stream",
          "text": [
            "0               time                datetime    B4    B5  pixel_qa\n",
            "0      1579757457192 2020-01-23 05:30:57.192   567  3314       322\n",
            "1      1581139852109 2020-02-08 05:30:52.109   872  2660       322\n",
            "2      1582522248530 2020-02-24 05:30:48.530   869  1877       322\n",
            "6      1590816617393 2020-05-30 05:30:17.393  1042  2993       322\n",
            "7      1592199027594 2020-06-15 05:30:27.594   897  2805       322\n",
            "...              ...                     ...   ...   ...       ...\n",
            "26592  1579757457192 2020-01-23 05:30:57.192   736  2619       322\n",
            "26593  1581139852109 2020-02-08 05:30:52.109  1052  2211       322\n",
            "26594  1582522248530 2020-02-24 05:30:48.530   978  1737       322\n",
            "26598  1590816617393 2020-05-30 05:30:17.393  1425  2858       322\n",
            "26599  1592199027594 2020-06-15 05:30:27.594  1501  2885       322\n",
            "\n",
            "[16625 rows x 5 columns]\n"
          ],
          "name": "stdout"
        }
      ]
    },
    {
      "cell_type": "markdown",
      "metadata": {
        "id": "PmUqVzXpsXjm"
      },
      "source": [
        "Once the cloudy pixels are eliminated, the MSAVI 2 values are calulated using the following equation.\n",
        "\n",
        "**MSAVI 2= (2 * NIR + 1 – sqrt ((2 * NIR + 1)^2 – 8 * (NIR - R))) / 2.**\n",
        "\n",
        "In Landsat 8,\n",
        "\n",
        "**MSAVI 2= (2 * Band 5 + 1 – sqrt ((2 * Band 5 + 1)^2 – 8 * (Band 5 – Band 4))) / 2.**"
      ]
    },
    {
      "cell_type": "code",
      "metadata": {
        "id": "QjJhBPjCrBMm"
      },
      "source": [
        "\n",
        "import numpy as np\n",
        "\n",
        "\n",
        "def calc_msavi(band4,band5):\n",
        "    \"\"\"Estimates MSAVI-2 index from the band information.\"\"\"\n",
        "    MSAVI= (2*band5*0.0001 + 1-np.sqrt((2*band5*0.0001+1)**2 - 8*(band5 - band4)*0.0001))/2 #0.0001 is the scale for each band\n",
        "    return MSAVI\n",
        "\n",
        "msavi_roi_1 =calc_msavi(np.asanyarray(cf_sr_roi_1['B4'].apply(float)), np.asanyarray(cf_sr_roi_1['B5'].apply(float)))\n",
        "msavi_roi_2 =calc_msavi(np.asanyarray(cf_sr_roi_2['B4'].apply(float)), np.asanyarray(cf_sr_roi_2['B5'].apply(float)))\n",
        "msavi_roi_3 =calc_msavi(np.asanyarray(cf_sr_roi_3['B4'].apply(float)), np.asanyarray(cf_sr_roi_3['B5'].apply(float)))\n"
      ],
      "execution_count": 180,
      "outputs": []
    },
    {
      "cell_type": "markdown",
      "metadata": {
        "id": "ckLWoclusytl"
      },
      "source": [
        "As the final step, the MSAVI values are plotted for each region in a single figure. "
      ]
    },
    {
      "cell_type": "code",
      "metadata": {
        "id": "8Ug2fA7d1NUf"
      },
      "source": [
        "#import the libraries for plotting\n",
        "import matplotlib.pyplot as plt\n",
        "# from scipy import optimize\n",
        "%matplotlib inline\n"
      ],
      "execution_count": 198,
      "outputs": []
    },
    {
      "cell_type": "code",
      "metadata": {
        "colab": {
          "base_uri": "https://localhost:8080/",
          "height": 989
        },
        "id": "rOsItw7Bggpp",
        "outputId": "793e8620-87c5-44f9-ee7c-16e6df75b0d4"
      },
      "source": [
        "\n",
        "# # Subplots.\n",
        "fig, ax = plt.subplots(3,figsize=(14,15 ))\n",
        "\n",
        "# Add scatter plots.\n",
        "ax[0].scatter(cf_sr_roi_1['datetime'],msavi_roi_1,\n",
        "           c='black', alpha=0.8, label='MSAVI 2 for Region 1 ')\n",
        "\n",
        "# Add scatter plots.\n",
        "ax[1].scatter(cf_sr_roi_2['datetime'],msavi_roi_2,\n",
        "           c='green', alpha=0.8, label='MSAVI 2 for Region 2 ')\n",
        "# Add scatter plots.\n",
        "ax[2].scatter(cf_sr_roi_3['datetime'],msavi_roi_3,\n",
        "           c='red', alpha=0.8, label='MSAVI 2 for Region 3 ')\n",
        "\n",
        "# ax.scatter(lst_df_rural['datetime'], lst_df_rural['LST_Day_1km'],\n",
        "#            c='green', alpha=0.35, label='Rural (data)')\n",
        "\n",
        "\n",
        "# Add some parameters.\n",
        "fig.suptitle('Time series of MSAVI', fontsize=16)\n",
        "#ax.set_title('Time series of MSAVI', fontsize=16)\n",
        "ax[0].set_xlabel('Date', fontsize=14)\n",
        "ax[0].set_ylabel('MASVI 2', fontsize=14)\n",
        "ax[0].set_ylim(-0.4, 1)\n",
        "ax[0].grid(lw=0.2)\n",
        "ax[0].legend(fontsize=14, loc='lower right')\n",
        "\n",
        "ax[1].set_xlabel('Date', fontsize=14)\n",
        "ax[1].set_ylabel('MASVI 2', fontsize=14)\n",
        "ax[1].set_ylim(-0.4, 1)\n",
        "ax[1].grid(lw=0.2)\n",
        "ax[1].legend(fontsize=14, loc='lower right')\n",
        "\n",
        "ax[2].set_xlabel('Date', fontsize=14)\n",
        "ax[2].set_ylabel('MASVI 2', fontsize=14)\n",
        "ax[2].set_ylim(-0.4, 1)\n",
        "ax[2].grid(lw=0.2)\n",
        "ax[2].legend(fontsize=14, loc='lower right')\n",
        "\n",
        "plt.show()\n"
      ],
      "execution_count": 199,
      "outputs": [
        {
          "output_type": "display_data",
          "data": {
            "image/png": "[encoded data removed]",
            "text/plain": [
              "<Figure size 1008x1080 with 3 Axes>"
            ]
          },
          "metadata": {
            "tags": [],
            "needs_background": "light"
          }
        }
      ]
    }
  ]
}